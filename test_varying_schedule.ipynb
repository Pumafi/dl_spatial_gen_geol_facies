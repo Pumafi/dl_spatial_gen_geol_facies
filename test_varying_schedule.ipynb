{
  "nbformat": 4,
  "nbformat_minor": 0,
  "metadata": {
    "colab": {
      "provenance": [],
      "authorship_tag": "ABX9TyPCXZIXWwmvWRKE0qyHd3nQ",
      "include_colab_link": true
    },
    "kernelspec": {
      "name": "python3",
      "display_name": "Python 3"
    },
    "language_info": {
      "name": "python"
    }
  },
  "cells": [
    {
      "cell_type": "markdown",
      "metadata": {
        "id": "view-in-github",
        "colab_type": "text"
      },
      "source": [
        "<a href=\"https://colab.research.google.com/github/Pumafi/dl_spatial_gen_geol_facies/blob/main/test_varying_schedule.ipynb\" target=\"_parent\"><img src=\"https://colab.research.google.com/assets/colab-badge.svg\" alt=\"Open In Colab\"/></a>"
      ]
    },
    {
      "cell_type": "code",
      "execution_count": 1,
      "metadata": {
        "colab": {
          "base_uri": "https://localhost:8080/"
        },
        "id": "6U0QccutL2CJ",
        "outputId": "cc900eff-5a83-4ce3-d3e2-2c89087b5e5a"
      },
      "outputs": [
        {
          "output_type": "stream",
          "name": "stdout",
          "text": [
            "P(t) at t = 1 : [0.36652471 0.31673764 0.31673764]\n"
          ]
        }
      ],
      "source": [
        "import numpy as np\n",
        "from scipy.linalg import expm\n",
        "\n",
        "# Define the transition rate matrix Q\n",
        "#Q = np.array([[-2, 1, 1],\n",
        "#              [1, -3, 2],\n",
        "#              [1, 2, -3]])\n",
        "\n"
      ]
    },
    {
      "cell_type": "code",
      "source": [
        "import matplotlib.pyplot as plt\n",
        "x = np.linspace(0, 1, 50)\n",
        "#plt.plot(x, np.tan(x))\n",
        "plt.plot(x, np.cos(x))"
      ],
      "metadata": {
        "colab": {
          "base_uri": "https://localhost:8080/",
          "height": 448
        },
        "id": "t3B2sadETBkC",
        "outputId": "0ed2f7d0-a8cf-46d9-db39-b1aa2d5b93e7"
      },
      "execution_count": 34,
      "outputs": [
        {
          "output_type": "execute_result",
          "data": {
            "text/plain": [
              "[<matplotlib.lines.Line2D at 0x780fb5bdef50>]"
            ]
          },
          "metadata": {},
          "execution_count": 34
        },
        {
          "output_type": "display_data",
          "data": {
            "text/plain": [
              "<Figure size 640x480 with 1 Axes>"
            ],
            "image/png": "[encoded data removed]"
          },
          "metadata": {}
        }
      ]
    },
    {
      "cell_type": "code",
      "source": [
        "1 - np.cos(x)"
      ],
      "metadata": {
        "colab": {
          "base_uri": "https://localhost:8080/"
        },
        "id": "WPEp5HqdTspB",
        "outputId": "de989efd-0fc2-4567-d531-f874966891aa"
      },
      "execution_count": 36,
      "outputs": [
        {
          "output_type": "execute_result",
          "data": {
            "text/plain": [
              "array([0.00000000e+00, 2.08239336e-04, 8.32870618e-04, 1.87363370e-03,\n",
              "       3.33009512e-03, 5.20164831e-03, 7.48751379e-03, 1.01867396e-02,\n",
              "       1.32982014e-02, 1.68206036e-02, 2.07524789e-02, 2.50921900e-02,\n",
              "       2.98379294e-02, 3.49877206e-02, 4.05394189e-02, 4.64907120e-02,\n",
              "       5.28391214e-02, 5.95820031e-02, 6.67165488e-02, 7.42397872e-02,\n",
              "       8.21485850e-02, 9.04396483e-02, 9.91095241e-02, 1.08154602e-01,\n",
              "       1.17571114e-01, 1.27355139e-01, 1.37502601e-01, 1.48009276e-01,\n",
              "       1.58870787e-01, 1.70082610e-01, 1.81640075e-01, 1.93538371e-01,\n",
              "       2.05772540e-01, 2.18337488e-01, 2.31227982e-01, 2.44438653e-01,\n",
              "       2.57964000e-01, 2.71798388e-01, 2.85936057e-01, 3.00371118e-01,\n",
              "       3.15097560e-01, 3.30109249e-01, 3.45399933e-01, 3.60963245e-01,\n",
              "       3.76792701e-01, 3.92881710e-01, 4.09223571e-01, 4.25811477e-01,\n",
              "       4.42638521e-01, 4.59697694e-01])"
            ]
          },
          "metadata": {},
          "execution_count": 36
        }
      ]
    },
    {
      "cell_type": "code",
      "source": [
        "import numpy as np\n",
        "\n",
        "# Define the number of states and the parameter\n",
        "num_states = 4  # Change this to the number of states in your Markov process\n",
        "parameter = np.pi / 3  # The parameter for the sine values\n",
        "\n",
        "# Create an empty infinitesimal generator matrix\n",
        "Q = np.zeros((num_states, num_states))\n",
        "\n",
        "# Fill in the off-diagonal entries with the sine of the parameter\n",
        "for i in range(num_states):\n",
        "    for j in range(num_states):\n",
        "        if i != j:\n",
        "            Q[i][j] = np.sin(parameter)\n",
        "\n",
        "# Define the diagonal entries to ensure row sums are zero\n",
        "for i in range(num_states):\n",
        "    Q[i][i] = -np.sum(Q[i])\n",
        "\n",
        "# Print the resulting infinitesimal generator matrix\n",
        "print(\"Infinitesimal Generator Matrix (Q):\")\n",
        "print(Q)"
      ],
      "metadata": {
        "colab": {
          "base_uri": "https://localhost:8080/"
        },
        "id": "p8EZmsfML4qx",
        "outputId": "79977fe6-c748-4a97-873c-f74904c85855"
      },
      "execution_count": 89,
      "outputs": [
        {
          "output_type": "stream",
          "name": "stdout",
          "text": [
            "Infinitesimal Generator Matrix (Q):\n",
            "[[-2.59807621  0.8660254   0.8660254   0.8660254 ]\n",
            " [ 0.8660254  -2.59807621  0.8660254   0.8660254 ]\n",
            " [ 0.8660254   0.8660254  -2.59807621  0.8660254 ]\n",
            " [ 0.8660254   0.8660254   0.8660254  -2.59807621]]\n"
          ]
        }
      ]
    },
    {
      "cell_type": "code",
      "source": [
        "import numpy as np\n",
        "Q_integral = np.zeros((num_states, num_states))\n",
        "\n",
        "for i in range(num_states):\n",
        "    for j in range(num_states):\n",
        "        if i != j:\n",
        "            Q_integral[i][j] = 1 - np.cos(parameter) #-np.log(np.cos(parameter))\n",
        "\n",
        "# Define the diagonal entries to ensure row sums are zero\n",
        "for i in range(num_states):\n",
        "    Q_integral[i][i] = -np.sum(Q_integral[i])\n",
        "\n",
        "# Print the resulting infinitesimal generator matrix\n",
        "print(\"Infinitesimal Generator Matrix Integral (Q_integral):\")\n",
        "print(Q_integral)"
      ],
      "metadata": {
        "colab": {
          "base_uri": "https://localhost:8080/"
        },
        "id": "qyPmhYEUWEE0",
        "outputId": "07976bfa-1488-4d6b-b4c4-98d2271929fb"
      },
      "execution_count": 90,
      "outputs": [
        {
          "output_type": "stream",
          "name": "stdout",
          "text": [
            "Infinitesimal Generator Matrix Integral (Q_integral):\n",
            "[[-1.5  0.5  0.5  0.5]\n",
            " [ 0.5 -1.5  0.5  0.5]\n",
            " [ 0.5  0.5 -1.5  0.5]\n",
            " [ 0.5  0.5  0.5 -1.5]]\n"
          ]
        }
      ]
    },
    {
      "cell_type": "code",
      "source": [
        "# Initial state distribution P(0)\n",
        "P0 = np.array([1, 0, 0, 0])\n",
        "\n",
        "# Time t\n",
        "t = parameter\n",
        "\n",
        "# Calculate the matrix exponential\n",
        "eQt = expm(Q_integral)\n",
        "\n",
        "# Calculate P(t)\n",
        "Pt = np.dot(eQt, P0)\n",
        "\n",
        "print(\"P(t) at t =\", t, \":\", Pt)"
      ],
      "metadata": {
        "colab": {
          "base_uri": "https://localhost:8080/"
        },
        "id": "SHbXfNfKMrIQ",
        "outputId": "f0027009-b8d5-440f-9c38-91eeece43f73"
      },
      "execution_count": 91,
      "outputs": [
        {
          "output_type": "stream",
          "name": "stdout",
          "text": [
            "P(t) at t = 1.0471975511965976 : [0.35150146 0.21616618 0.21616618 0.21616618]\n"
          ]
        }
      ]
    },
    {
      "cell_type": "code",
      "source": [
        "np.sum(Pt)"
      ],
      "metadata": {
        "colab": {
          "base_uri": "https://localhost:8080/"
        },
        "id": "c702BxmAX7hU",
        "outputId": "82658744-c794-4fb4-c973-c090c62fe885"
      },
      "execution_count": 82,
      "outputs": [
        {
          "output_type": "execute_result",
          "data": {
            "text/plain": [
              "1.0000000000000133"
            ]
          },
          "metadata": {},
          "execution_count": 82
        }
      ]
    }
  ]
}